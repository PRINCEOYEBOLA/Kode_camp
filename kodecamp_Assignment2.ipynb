{
 "cells": [
  {
   "cell_type": "markdown",
   "id": "40d34770-77d6-4d5d-9f70-38ee5fc53845",
   "metadata": {},
   "source": [
    "# Kodecamp Assignment 2:\n",
    "### \"Ask the user to enter a list containing numbers between 1 and 12. Then replace all of the\n",
    "### entries in the list that are greater than 10 with 10.You are to submit the python file\""
   ]
  },
  {
   "cell_type": "code",
   "execution_count": 59,
   "id": "81f4dbfa-061a-4164-bfae-cfd37e266513",
   "metadata": {},
   "outputs": [
    {
     "name": "stdout",
     "output_type": "stream",
     "text": [
      "WELCOME TO LIST AND NUMBER MODIFICATION SESSION, KINDLY FOLLOW THE INSTRUCTION BELOW\n"
     ]
    },
    {
     "name": "stdin",
     "output_type": "stream",
     "text": [
      "Enter your First name:     Oyebola\n"
     ]
    },
    {
     "name": "stdout",
     "output_type": "stream",
     "text": [
      "Oyebola Welcome on Board!\n"
     ]
    },
    {
     "name": "stdin",
     "output_type": "stream",
     "text": [
      "Kindly enter a list of number not more than 20 beiween 1 and 12 separated by space:      11 11 11 11 2 3 4 5 6 12 12 12 12 10 10 11 9 8 12 11\n"
     ]
    },
    {
     "name": "stdout",
     "output_type": "stream",
     "text": [
      "the numbers your entered are:  [11, 11, 11, 11, 2, 3, 4, 5, 6, 12, 12, 12, 12, 10, 10, 11, 9, 8, 12, 11]\n",
      "<class 'list'>\n",
      "[10, 10, 10, 10, 2, 3, 4, 5, 6, 10, 10, 10, 10, 10, 10, 10, 9, 8, 10, 10]\n"
     ]
    }
   ],
   "source": [
    "print(\"WELCOME TO LIST AND NUMBER MODIFICATION SESSION, KINDLY FOLLOW THE INSTRUCTION BELOW\")\n",
    "\n",
    "\"\"\"Getting the first name of each user\"\"\"\n",
    "user_name = input(\"Enter your First name:    \")\n",
    "\n",
    "\"\"\"Print out a message welcoming the user reflecting the name entered by the user\"\"\"\n",
    "print(user_name, \"Welcome on Board!\")\n",
    "\n",
    "\"\"\"Instructing the user on what to do and setting a maximum limit for the length of the list to be created\"\"\"\n",
    "num_list = input(\"Kindly enter a list of number not more than 20 beiween 1 and 12 separated by space:     \")\n",
    "\n",
    "\"\"\"Converting the received input in num_list into a list object using the split() function\"\"\"\n",
    "user_choice = num_list.split()\n",
    "\n",
    "\"\"\"convert each number entered by the user to int type\"\"\"\n",
    "for i in range(len(user_choice)):\n",
    "    \"\"\"convert each item to int type\"\"\"\n",
    "    user_choice[i] = eval(user_choice[i])\n",
    "    \n",
    "\"\"\"Generating the numbers entered by the user using the print() function\"\"\"\n",
    "print('the numbers your entered are: ', user_choice)\n",
    "\n",
    "\"\"\"print the data tyoe of user_choice to confirm the conversion from string to integer\"\"\"\n",
    "print(type(user_choice))\n",
    "\n",
    "\"\"\"Replacing any number contained in the user_choice that is greater than 10 with 10\"\"\"\n",
    "for num in range(len(user_choice)):\n",
    "    if user_choice[num] > 10:\n",
    "        user_choice[num] = 10\n",
    "        \n",
    "\"\"\"Confirm if any replacement of value was done by printing the user_choice list again using the print() function\"\"\"\n",
    "print(user_choice)"
   ]
  },
  {
   "cell_type": "markdown",
   "id": "9f9a9c0a-0205-4918-910b-09a2cf180b64",
   "metadata": {},
   "source": []
  },
  {
   "cell_type": "markdown",
   "id": "bbce43aa-424e-4600-b3f0-743a28b49b56",
   "metadata": {},
   "source": [
    "### number used for testing the code are: 12 12 10 11 1 2 8 9 10 11 12 10 11 12 8 9 11 12 9 12"
   ]
  },
  {
   "cell_type": "code",
   "execution_count": null,
   "id": "c56d25a9-1077-4aad-8232-be4b5bf3a7bd",
   "metadata": {},
   "outputs": [],
   "source": []
  }
 ],
 "metadata": {
  "kernelspec": {
   "display_name": "Python 3 (ipykernel)",
   "language": "python",
   "name": "python3"
  },
  "language_info": {
   "codemirror_mode": {
    "name": "ipython",
    "version": 3
   },
   "file_extension": ".py",
   "mimetype": "text/x-python",
   "name": "python",
   "nbconvert_exporter": "python",
   "pygments_lexer": "ipython3",
   "version": "3.9.7"
  }
 },
 "nbformat": 4,
 "nbformat_minor": 5
}
